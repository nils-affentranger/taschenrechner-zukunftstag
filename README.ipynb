{
 "cells": [
  {
   "cell_type": "markdown",
   "metadata": {},
   "source": [
    "# Taschenrechner - Zukunftstag Exanic 2024\n",
    "\n",
    "Welcome! This interactive notebook will guide you through setting up and running the project.\n",
    "\n",
    "## 📋 Voraussetzungen\n",
    "Ensure you have the following installed on your computer:\n",
    "- [Visual Studio Code](https://code.visualstudio.com/)\n",
    "- [Node.js](https://nodejs.org/en/download/)\n",
    "- [Git](https://git-scm.com/)\n"
   ]
  },
  {
   "cell_type": "markdown",
   "metadata": {},
   "source": [
    "## 🚀 Installation und Start\n",
    "Follow these steps to set up the project:\n"
   ]
  },
  {
   "cell_type": "markdown",
   "metadata": {},
   "source": [
    "### 1. Projekt herunterladen\n",
    "Run the following commands to download the project in the specified directory."
   ]
  },
  {
   "cell_type": "code",
   "execution_count": null,
   "metadata": {},
   "outputs": [],
   "source": [
    "!mkdir -p /Zukunftstag\n",
    "!cd /Zukunftstag && git clone https://github.com/nils-affentranger/taschenrechner-zukunftstag"
   ]
  },
  {
   "cell_type": "markdown",
   "metadata": {},
   "source": [
    "### 2. Open the Project in Visual Studio Code\n",
    "To open the project:\n",
    "1. Start Visual Studio Code\n",
    "2. Click \"File\" > \"Open Workspace from File\"\n",
    "3. Navigate to `/Zukunftstag/taschenrechner-zukunftstag`\n",
    "4. Open `taschenrechner-zukunftstag.code-workspace`\n"
   ]
  },
  {
   "cell_type": "markdown",
   "metadata": {},
   "source": [
    "### 3. Open Terminal in Visual Studio Code\n",
    "In Visual Studio Code, open the terminal by selecting \"Terminal\" > \"New Terminal\".\n"
   ]
  },
  {
   "cell_type": "markdown",
   "metadata": {},
   "source": [
    "### 4. Install Dependencies\n",
    "Run the following command in the terminal to install necessary packages:"
   ]
  },
  {
   "cell_type": "code",
   "execution_count": null,
   "metadata": {},
   "outputs": [],
   "source": [
    "!cd /Zukunftstag/taschenrechner-zukunftstag && npm install"
   ]
  },
  {
   "cell_type": "markdown",
   "metadata": {},
   "source": [
    "> 💡 This step may take a few minutes, don’t worry!"
   ]
  },
  {
   "cell_type": "markdown",
   "metadata": {},
   "source": [
    "### 5. Start the Project\n",
    "Once the dependencies are installed, run the following command to start the project:"
   ]
  },
  {
   "cell_type": "code",
   "execution_count": null,
   "metadata": {},
   "outputs": [],
   "source": [
    "!cd /Zukunftstag/taschenrechner-zukunftstag && ng serve"
   ]
  },
  {
   "cell_type": "markdown",
   "metadata": {},
   "source": [
    "### 6. Open the Calculator\n",
    "Open Chrome and navigate to `http://localhost:4200` to see the calculator running!\n"
   ]
  },
  {
   "cell_type": "markdown",
   "metadata": {},
   "source": [
    "## 🎉 Finished!\n",
    "The calculator should now appear in your browser.\n",
    "\n",
    "## ❓ Need Help?\n",
    "If anything doesn’t work as expected, feel free to reach out for assistance!"
   ]
  },
  {
   "cell_type": "markdown",
   "metadata": {},
   "source": [
    "---\n",
    "\n",
    "Developed for Zukunftstag at Exanic - 2024\n"
   ]
  }
 ],
 "metadata": {
  "kernelspec": {
   "display_name": "Python 3",
   "language": "python",
   "name": "python3"
  },
  "language_info": {
   "name": "python",
   "version": "3.12.7"
  }
 },
 "nbformat": 4,
 "nbformat_minor": 5
}
